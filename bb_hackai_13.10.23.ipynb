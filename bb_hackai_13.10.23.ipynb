{
 "cells": [
  {
   "cell_type": "markdown",
   "metadata": {},
   "source": [
    "# ML для оценки параметров экономических моделей **(кейс Центробанка)**"
   ]
  },
  {
   "cell_type": "markdown",
   "metadata": {},
   "source": [
    "Импортирование необходимых библиотек для работы с нейронной сетью "
   ]
  },
  {
   "cell_type": "code",
   "execution_count": 2,
   "metadata": {},
   "outputs": [],
   "source": [
    "import numpy as np"
   ]
  },
  {
   "cell_type": "markdown",
   "metadata": {},
   "source": [
    "# Загрузка набора данных"
   ]
  },
  {
   "cell_type": "markdown",
   "metadata": {},
   "source": [
    "Загрузка и распределение, по переменным, необходимых данных из датасета"
   ]
  },
  {
   "cell_type": "code",
   "execution_count": 3,
   "metadata": {},
   "outputs": [],
   "source": [
    "clip = np.load('dataset/clip.npy')\n",
    "w = np.load('dataset/weight.npy')\n",
    "x_train = np.load(\"dataset/y_smp_test.npy\")\n",
    "y_train = np.load(\"dataset/pars_smp_train.npy\")"
   ]
  },
  {
   "cell_type": "markdown",
   "metadata": {},
   "source": [
    "# Импортирование библиотек для работы с нейронной сетью"
   ]
  },
  {
   "cell_type": "code",
   "execution_count": 34,
   "metadata": {},
   "outputs": [],
   "source": [
    "from keras.models import Sequential\n",
    "from keras.layers import Dense\n",
    "from keras.src.layers import GRU, Dropout"
   ]
  },
  {
   "cell_type": "markdown",
   "metadata": {},
   "source": [
    "# Создание модели для прогнозирования макроэкономических параметров"
   ]
  },
  {
   "cell_type": "code",
   "execution_count": 21,
   "metadata": {},
   "outputs": [
    {
     "name": "stdout",
     "output_type": "stream",
     "text": [
      "Model: \"sequential_9\"\n",
      "_________________________________________________________________\n",
      " Layer (type)                Output Shape              Param #   \n",
      "=================================================================\n",
      " gru_2 (GRU)                 (None, 200, 128)          51072     \n",
      "                                                                 \n",
      " gru_3 (GRU)                 (None, 64)                37248     \n",
      "                                                                 \n",
      " dense_10 (Dense)            (None, 32)                2080      \n",
      "                                                                 \n",
      " dense_11 (Dense)            (None, 15)                495       \n",
      "                                                                 \n",
      "=================================================================\n",
      "Total params: 90895 (355.06 KB)\n",
      "Trainable params: 90895 (355.06 KB)\n",
      "Non-trainable params: 0 (0.00 Byte)\n",
      "_________________________________________________________________\n"
     ]
    }
   ],
   "source": [
    "model = Sequential()\n",
    "model.add(GRU(units=128,\n",
    "              return_sequences=True,\n",
    "              input_shape=(x_train.shape[1], x_train.shape[2])))\n",
    "model.add(GRU(units=64))\n",
    "model.add(Dense(32))\n",
    "# model.add(Dropout(0.5))\n",
    "model.add(Dense(15))\n",
    "model.summary()\n",
    "model.compile(optimizer='adam',\n",
    "              loss='mse', metrics=[\"mae\"])"
   ]
  },
  {
   "cell_type": "markdown",
   "metadata": {},
   "source": [
    "# Обучение модели "
   ]
  },
  {
   "cell_type": "code",
   "execution_count": 22,
   "metadata": {},
   "outputs": [
    {
     "name": "stdout",
     "output_type": "stream",
     "text": [
      "Epoch 1/5\n",
      "8/8 [==============================] - 8s 659ms/step - loss: 0.8503 - mae: 0.6664\n",
      "Epoch 2/5\n",
      "8/8 [==============================] - 6s 708ms/step - loss: 0.3515 - mae: 0.3852\n",
      "Epoch 3/5\n",
      "8/8 [==============================] - 6s 703ms/step - loss: 0.2315 - mae: 0.2975\n",
      "Epoch 4/5\n",
      "8/8 [==============================] - 6s 770ms/step - loss: 0.1790 - mae: 0.2682\n",
      "Epoch 5/5\n",
      "8/8 [==============================] - 6s 807ms/step - loss: 0.1400 - mae: 0.2368\n"
     ]
    },
    {
     "data": {
      "text/plain": [
       "<keras.src.callbacks.History at 0x2b21bae5f90>"
      ]
     },
     "execution_count": 22,
     "metadata": {},
     "output_type": "execute_result"
    }
   ],
   "source": [
    "model.compile(optimizer='adam',\n",
    "              loss='mse', metrics=[\"mae\"])\n",
    "\n",
    "model.fit(x_train[:100000,:,], y_train[:100000,:,], epochs=5, batch_size=128)"
   ]
  },
  {
   "cell_type": "markdown",
   "metadata": {},
   "source": [
    "# Использование сети для предсказания"
   ]
  },
  {
   "cell_type": "code",
   "execution_count": 28,
   "metadata": {},
   "outputs": [
    {
     "name": "stdout",
     "output_type": "stream",
     "text": [
      "1/1 [==============================] - 0s 455ms/step\n"
     ]
    }
   ],
   "source": [
    "pred = model.predict(x_train[:100001:200001])"
   ]
  },
  {
   "cell_type": "markdown",
   "metadata": {},
   "source": [
    "# Создание и обучение моделей для рассчёта квантиль"
   ]
  },
  {
   "cell_type": "code",
   "execution_count": 60,
   "metadata": {},
   "outputs": [],
   "source": [
    "def create_models(x_train, y_train, s):\n",
    "    model = Sequential()\n",
    "    model.add(GRU(units=128,\n",
    "                  return_sequences=True,\n",
    "                  input_shape=(15, 1)))\n",
    "    # model.add(GRU(units=64))\n",
    "    model.add(Dense(32))\n",
    "    model.add(Dropout(0.5))\n",
    "    model.add(Dense(1))\n",
    "    model.summary()\n",
    "    model.compile(optimizer='adam',\n",
    "                  loss='mse', metrics=[\"mae\"])\n",
    "    model.fit(x_train,\n",
    "              y_train[:, :, s],\n",
    "              epochs=5, batch_size=128, validation_split=0.1)\n",
    "    return model"
   ]
  },
  {
   "cell_type": "code",
   "execution_count": 46,
   "metadata": {},
   "outputs": [],
   "source": [
    "def merge_arrays(arr1, arr2, arr3, arr4, arr5, arr6):\n",
    "    fin_arr = np.empty((arr1.shape[0],arr1.shape[1],6))\n",
    "    for i in range(len(arr1)):\n",
    "        for j in range(len(arr1[0])):\n",
    "            semi_arr = np.hstack([arr1[i][j], arr2[i][j],\n",
    "                                      arr3[i][j], arr4[i][j],\n",
    "                                      arr5[i][j], arr6[i][j]])\n",
    "            fin_arr[i][j] = semi_arr\n",
    "    return fin_arr"
   ]
  },
  {
   "cell_type": "code",
   "execution_count": 61,
   "metadata": {},
   "outputs": [
    {
     "name": "stdout",
     "output_type": "stream",
     "text": [
      "Model: \"sequential_46\"\n",
      "_________________________________________________________________\n",
      " Layer (type)                Output Shape              Param #   \n",
      "=================================================================\n",
      " gru_40 (GRU)                (None, 15, 128)           50304     \n",
      "                                                                 \n",
      " dense_84 (Dense)            (None, 15, 32)            4128      \n",
      "                                                                 \n",
      " dropout_36 (Dropout)        (None, 15, 32)            0         \n",
      "                                                                 \n",
      " dense_85 (Dense)            (None, 15, 1)             33        \n",
      "                                                                 \n",
      "=================================================================\n",
      "Total params: 54465 (212.75 KB)\n",
      "Trainable params: 54465 (212.75 KB)\n",
      "Non-trainable params: 0 (0.00 Byte)\n",
      "_________________________________________________________________\n",
      "Epoch 1/5\n",
      "704/704 [==============================] - 13s 16ms/step - loss: 1.0005 - mae: 0.7981 - val_loss: 1.0009 - val_mae: 0.7981\n",
      "Epoch 2/5\n",
      "704/704 [==============================] - 11s 16ms/step - loss: 0.9997 - mae: 0.7978 - val_loss: 1.0009 - val_mae: 0.7981\n",
      "Epoch 3/5\n",
      "704/704 [==============================] - 11s 16ms/step - loss: 0.9995 - mae: 0.7977 - val_loss: 1.0009 - val_mae: 0.7981\n",
      "Epoch 4/5\n",
      "704/704 [==============================] - 11s 16ms/step - loss: 0.9994 - mae: 0.7977 - val_loss: 1.0009 - val_mae: 0.7981\n",
      "Epoch 5/5\n",
      "704/704 [==============================] - 11s 16ms/step - loss: 0.9994 - mae: 0.7977 - val_loss: 1.0010 - val_mae: 0.7981\n",
      "1/1 [==============================] - 0s 250ms/step\n",
      "(1, 15, 1)\n",
      "Model: \"sequential_47\"\n",
      "_________________________________________________________________\n",
      " Layer (type)                Output Shape              Param #   \n",
      "=================================================================\n",
      " gru_41 (GRU)                (None, 15, 128)           50304     \n",
      "                                                                 \n",
      " dense_86 (Dense)            (None, 15, 32)            4128      \n",
      "                                                                 \n",
      " dropout_37 (Dropout)        (None, 15, 32)            0         \n",
      "                                                                 \n",
      " dense_87 (Dense)            (None, 15, 1)             33        \n",
      "                                                                 \n",
      "=================================================================\n",
      "Total params: 54465 (212.75 KB)\n",
      "Trainable params: 54465 (212.75 KB)\n",
      "Non-trainable params: 0 (0.00 Byte)\n",
      "_________________________________________________________________\n",
      "Epoch 1/5\n",
      "704/704 [==============================] - 13s 17ms/step - loss: 1.0037 - mae: 0.7992 - val_loss: 0.9914 - val_mae: 0.7938\n",
      "Epoch 2/5\n",
      "704/704 [==============================] - 11s 16ms/step - loss: 1.0027 - mae: 0.7988 - val_loss: 0.9913 - val_mae: 0.7938\n",
      "Epoch 3/5\n",
      "704/704 [==============================] - 11s 16ms/step - loss: 1.0025 - mae: 0.7987 - val_loss: 0.9911 - val_mae: 0.7937\n",
      "Epoch 4/5\n",
      "704/704 [==============================] - 11s 16ms/step - loss: 1.0024 - mae: 0.7987 - val_loss: 0.9912 - val_mae: 0.7937\n",
      "Epoch 5/5\n",
      "704/704 [==============================] - 11s 16ms/step - loss: 1.0023 - mae: 0.7987 - val_loss: 0.9911 - val_mae: 0.7937\n",
      "1/1 [==============================] - 0s 254ms/step\n",
      "(1, 15, 1)\n",
      "Model: \"sequential_48\"\n",
      "_________________________________________________________________\n",
      " Layer (type)                Output Shape              Param #   \n",
      "=================================================================\n",
      " gru_42 (GRU)                (None, 15, 128)           50304     \n",
      "                                                                 \n",
      " dense_88 (Dense)            (None, 15, 32)            4128      \n",
      "                                                                 \n",
      " dropout_38 (Dropout)        (None, 15, 32)            0         \n",
      "                                                                 \n",
      " dense_89 (Dense)            (None, 15, 1)             33        \n",
      "                                                                 \n",
      "=================================================================\n",
      "Total params: 54465 (212.75 KB)\n",
      "Trainable params: 54465 (212.75 KB)\n",
      "Non-trainable params: 0 (0.00 Byte)\n",
      "_________________________________________________________________\n",
      "Epoch 1/5\n",
      "704/704 [==============================] - 13s 16ms/step - loss: 1.0009 - mae: 0.7980 - val_loss: 0.9983 - val_mae: 0.7970\n",
      "Epoch 2/5\n",
      "704/704 [==============================] - 11s 16ms/step - loss: 1.0002 - mae: 0.7977 - val_loss: 0.9981 - val_mae: 0.7969\n",
      "Epoch 3/5\n",
      "704/704 [==============================] - 11s 16ms/step - loss: 1.0001 - mae: 0.7977 - val_loss: 0.9981 - val_mae: 0.7969\n",
      "Epoch 4/5\n",
      "704/704 [==============================] - 11s 16ms/step - loss: 1.0001 - mae: 0.7977 - val_loss: 0.9981 - val_mae: 0.7969\n",
      "Epoch 5/5\n",
      "704/704 [==============================] - 11s 16ms/step - loss: 1.0001 - mae: 0.7977 - val_loss: 0.9982 - val_mae: 0.7970\n",
      "1/1 [==============================] - 0s 255ms/step\n",
      "(1, 15, 1)\n",
      "Model: \"sequential_49\"\n",
      "_________________________________________________________________\n",
      " Layer (type)                Output Shape              Param #   \n",
      "=================================================================\n",
      " gru_43 (GRU)                (None, 15, 128)           50304     \n",
      "                                                                 \n",
      " dense_90 (Dense)            (None, 15, 32)            4128      \n",
      "                                                                 \n",
      " dropout_39 (Dropout)        (None, 15, 32)            0         \n",
      "                                                                 \n",
      " dense_91 (Dense)            (None, 15, 1)             33        \n",
      "                                                                 \n",
      "=================================================================\n",
      "Total params: 54465 (212.75 KB)\n",
      "Trainable params: 54465 (212.75 KB)\n",
      "Non-trainable params: 0 (0.00 Byte)\n",
      "_________________________________________________________________\n",
      "Epoch 1/5\n",
      "704/704 [==============================] - 13s 16ms/step - loss: 0.9987 - mae: 0.7971 - val_loss: 1.0016 - val_mae: 0.7974\n",
      "Epoch 2/5\n",
      "704/704 [==============================] - 11s 16ms/step - loss: 0.9979 - mae: 0.7968 - val_loss: 1.0016 - val_mae: 0.7974\n",
      "Epoch 3/5\n",
      "704/704 [==============================] - 11s 16ms/step - loss: 0.9977 - mae: 0.7967 - val_loss: 1.0016 - val_mae: 0.7974\n",
      "Epoch 4/5\n",
      "704/704 [==============================] - 11s 16ms/step - loss: 0.9977 - mae: 0.7967 - val_loss: 1.0016 - val_mae: 0.7974\n",
      "Epoch 5/5\n",
      "704/704 [==============================] - 11s 16ms/step - loss: 0.9977 - mae: 0.7967 - val_loss: 1.0016 - val_mae: 0.7974\n",
      "1/1 [==============================] - 0s 255ms/step\n",
      "(1, 15, 1)\n",
      "Model: \"sequential_50\"\n",
      "_________________________________________________________________\n",
      " Layer (type)                Output Shape              Param #   \n",
      "=================================================================\n",
      " gru_44 (GRU)                (None, 15, 128)           50304     \n",
      "                                                                 \n",
      " dense_92 (Dense)            (None, 15, 32)            4128      \n",
      "                                                                 \n",
      " dropout_40 (Dropout)        (None, 15, 32)            0         \n",
      "                                                                 \n",
      " dense_93 (Dense)            (None, 15, 1)             33        \n",
      "                                                                 \n",
      "=================================================================\n",
      "Total params: 54465 (212.75 KB)\n",
      "Trainable params: 54465 (212.75 KB)\n",
      "Non-trainable params: 0 (0.00 Byte)\n",
      "_________________________________________________________________\n",
      "Epoch 1/5\n",
      "704/704 [==============================] - 13s 16ms/step - loss: 1.0022 - mae: 0.7985 - val_loss: 1.0026 - val_mae: 0.7995\n",
      "Epoch 2/5\n",
      "704/704 [==============================] - 11s 16ms/step - loss: 1.0013 - mae: 0.7981 - val_loss: 1.0026 - val_mae: 0.7995\n",
      "Epoch 3/5\n",
      "704/704 [==============================] - 11s 16ms/step - loss: 1.0011 - mae: 0.7981 - val_loss: 1.0026 - val_mae: 0.7995\n",
      "Epoch 4/5\n",
      "704/704 [==============================] - 11s 16ms/step - loss: 1.0010 - mae: 0.7980 - val_loss: 1.0026 - val_mae: 0.7995\n",
      "Epoch 5/5\n",
      "704/704 [==============================] - 11s 16ms/step - loss: 1.0010 - mae: 0.7980 - val_loss: 1.0026 - val_mae: 0.7995\n",
      "1/1 [==============================] - 0s 252ms/step\n",
      "(1, 15, 1)\n",
      "Model: \"sequential_51\"\n",
      "_________________________________________________________________\n",
      " Layer (type)                Output Shape              Param #   \n",
      "=================================================================\n",
      " gru_45 (GRU)                (None, 15, 128)           50304     \n",
      "                                                                 \n",
      " dense_94 (Dense)            (None, 15, 32)            4128      \n",
      "                                                                 \n",
      " dropout_41 (Dropout)        (None, 15, 32)            0         \n",
      "                                                                 \n",
      " dense_95 (Dense)            (None, 15, 1)             33        \n",
      "                                                                 \n",
      "=================================================================\n",
      "Total params: 54465 (212.75 KB)\n",
      "Trainable params: 54465 (212.75 KB)\n",
      "Non-trainable params: 0 (0.00 Byte)\n",
      "_________________________________________________________________\n",
      "Epoch 1/5\n",
      "704/704 [==============================] - 15s 19ms/step - loss: 1.0014 - mae: 0.7985 - val_loss: 1.0013 - val_mae: 0.7987\n",
      "Epoch 2/5\n",
      "704/704 [==============================] - 13s 18ms/step - loss: 1.0006 - mae: 0.7981 - val_loss: 1.0010 - val_mae: 0.7986\n",
      "Epoch 3/5\n",
      "704/704 [==============================] - 13s 18ms/step - loss: 1.0005 - mae: 0.7981 - val_loss: 1.0010 - val_mae: 0.7986\n",
      "Epoch 4/5\n",
      "704/704 [==============================] - 13s 18ms/step - loss: 1.0004 - mae: 0.7980 - val_loss: 1.0010 - val_mae: 0.7986\n",
      "Epoch 5/5\n",
      "704/704 [==============================] - 13s 18ms/step - loss: 1.0004 - mae: 0.7980 - val_loss: 1.0010 - val_mae: 0.7986\n",
      "1/1 [==============================] - 0s 255ms/step\n",
      "(1, 15, 1)\n"
     ]
    }
   ],
   "source": [
    "arr = []\n",
    "\n",
    "x_train = np.load('dataset/pars_smp_test.npy')\n",
    "y_train = np.load('dataset/random_submit.npy')\n",
    "\n",
    "for i in range(6):\n",
    "        model = create_models(x_train, y_train, i)\n",
    "        pred = model.predict(pred)\n",
    "        print(pred.shape)\n",
    "        arr.append(pred[:100000])\n",
    "        \n",
    "fin_arr = merge_arrays(arr[0], arr[1],arr[2],arr[3],arr[4],arr[5])"
   ]
  },
  {
   "cell_type": "markdown",
   "metadata": {},
   "source": [
    "# Оценка точности работы "
   ]
  },
  {
   "cell_type": "code",
   "execution_count": 62,
   "metadata": {},
   "outputs": [],
   "source": [
    "def calculate_metrics(forecast, true_values, weights = 1/15*np.ones(shape=(15,11)), clip = 10**6*np.ones(shape=(15,6)), quantiles = [0.1,0.25,0.5,0.75,0.9]):\n",
    "    # Define diff between forecast\n",
    "    diff = true_values - forecast\n",
    "    # Mean loss\n",
    "    RMSE = np.mean(np.minimum(diff[:,:,0]**2, clip[None,:,0]), axis=0)**0.5\n",
    "    L_mean = np.exp(np.sum(-weights[:,0]*RMSE))\n",
    "    # Quantile loss\n",
    "    quantile_loss = np.mean(np.minimum(((diff[:,:,1:]>0)*(np.array(quantiles)[None,None,:]) + (diff[:,:,1:]<=0)*(1 - np.array(quantiles)[None,None,:]))*abs(diff[:,:,1:]), clip[None,:,1:]), axis=0)\n",
    "    L_quantile = np.exp(np.sum(-weights[:,1:6]*quantile_loss))\n",
    "    # Calibration loss\n",
    "    L_calibration = np.exp(np.sum(-weights[:,6:]*np.abs(np.array(quantiles)-np.mean(diff[:,:,1:]<0, axis=0))))\n",
    "    return 0.45*L_mean + 0.45*L_quantile + 0.1*L_calibration"
   ]
  },
  {
   "cell_type": "code",
   "execution_count": 63,
   "metadata": {},
   "outputs": [
    {
     "data": {
      "text/plain": [
       "0.33620312926087054"
      ]
     },
     "execution_count": 63,
     "metadata": {},
     "output_type": "execute_result"
    }
   ],
   "source": [
    "metrics = calculate_metrics(fin_arr, x_train, weights= w, clip= clip, quantiles = [0.1,0.25,0.5,0.75,0.9])\n",
    "with open('metrics.npy', 'wb') as f:\n",
    "    np.save(f, metrics)"
   ]
  }
 ],
 "metadata": {
  "kernelspec": {
   "display_name": "Python 3",
   "language": "python",
   "name": "python3"
  },
  "language_info": {
   "codemirror_mode": {
    "name": "ipython",
    "version": 3
   },
   "file_extension": ".py",
   "mimetype": "text/x-python",
   "name": "python",
   "nbconvert_exporter": "python",
   "pygments_lexer": "ipython3",
   "version": "3.11.5"
  }
 },
 "nbformat": 4,
 "nbformat_minor": 2
}
